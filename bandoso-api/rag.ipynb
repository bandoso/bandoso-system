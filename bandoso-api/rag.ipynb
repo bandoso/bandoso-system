{
  "cells": [
    {
      "cell_type": "code",
      "execution_count": 1,
      "id": "53f5b339",
      "metadata": {},
      "outputs": [],
      "source": [
        "from typing import TypedDict, List, Optional\n",
        "from langgraph.graph import MessagesState\n",
        "\n",
        "class ConversationState(TypedDict):\n",
        "    messages: MessagesState = []\n",
        "    summary: str\n",
        "    question: str\n",
        "    response: str\n",
        "    context: Optional[str]\n"
      ]
    },
    {
      "cell_type": "code",
      "execution_count": 2,
      "id": "d8cf6411",
      "metadata": {},
      "outputs": [
        {
          "name": "stderr",
          "output_type": "stream",
          "text": [
            "d:\\VR_PROJECT\\bandoso-api\\app\\core\\embedding.py:11: LangChainDeprecationWarning: The class `HuggingFaceBgeEmbeddings` was deprecated in LangChain 0.2.2 and will be removed in 1.0. An updated version of the class exists in the :class:`~langchain-huggingface package and should be used instead. To use it run `pip install -U :class:`~langchain-huggingface` and import as `from :class:`~langchain_huggingface import HuggingFaceEmbeddings``.\n",
            "  embeddings = HuggingFaceBgeEmbeddings(\n",
            "C:\\Users\\Deno\\AppData\\Roaming\\Python\\Python311\\site-packages\\tqdm\\auto.py:21: TqdmWarning: IProgress not found. Please update jupyter and ipywidgets. See https://ipywidgets.readthedocs.io/en/stable/user_install.html\n",
            "  from .autonotebook import tqdm as notebook_tqdm\n"
          ]
        },
        {
          "name": "stdout",
          "output_type": "stream",
          "text": [
            "Model loaded on: cpu\n"
          ]
        }
      ],
      "source": [
        "from langchain_core.messages import SystemMessage, RemoveMessage, HumanMessage\n",
        "\n",
        "from langgraph.graph import MessagesState\n",
        "from typing import Optional, Dict, Any\n",
        "from langchain_google_genai import ChatGoogleGenerativeAI\n",
        "from app.core.llm import large_llm, small_llm\n",
        "from app.core.tools import doc_retriever_tool \n",
        "from langchain_core.messages import convert_to_messages\n",
        "from app.core.prompt  import REWRITE_PROMPT, GENERATE_PROMPT\n",
        "from langgraph.graph import StateGraph, START, END\n",
        "from langgraph.prebuilt import ToolNode\n",
        "from langgraph.prebuilt import tools_condition\n",
        "\n",
        "\n",
        "def generate_query_or_respond(state: ConversationState):\n",
        "    \"\"\"Call the model to generate a response based on the current state. Given\n",
        "    the question, it will decide to retrieve using the retriever tool, or simply respond to the user.\n",
        "    \"\"\"\n",
        "    messages = state.get(\"messages\", [])\n",
        "    response = (\n",
        "        large_llm\n",
        "        .bind_tools([doc_retriever_tool]).invoke(state[\"question\"])\n",
        "    )\n",
        "    return {**state, \"messages\": messages + [HumanMessage(content=state[\"question\"]), response]}\n",
        "\n"
      ]
    },
    {
      "cell_type": "code",
      "execution_count": 3,
      "id": "8de7212b",
      "metadata": {},
      "outputs": [],
      "source": [
        "REWRITE_PROMPT = (\n",
        "    \"Look at the input and improve with a better question. Output with just imrpvoed question without comment, max it short\\n\"\n",
        "    \"Here is the initial question:\"\n",
        "    \"\\n ------- \\n\"\n",
        "    \"{question}\"\n",
        "    \"\\n ------- \\n\"\n",
        "    \"Formulate an improved question:\"\n",
        ")\n",
        "\n",
        "\n",
        "def rewrite_question(state: MessagesState):\n",
        "    \"\"\"Rewrite the original user question.\"\"\"\n",
        "    question = state[\"question\"]\n",
        "    prompt = REWRITE_PROMPT.format(question=question)\n",
        "    response = small_llm.invoke([{\"role\": \"user\", \"content\": prompt}])\n",
        "    return {\"messages\": [{\"role\": \"user\", \"content\": response.content}]}"
      ]
    },
    {
      "cell_type": "code",
      "execution_count": 4,
      "id": "a98ed5c6",
      "metadata": {},
      "outputs": [],
      "source": [
        "\n",
        "GENERATE_PROMPT = (\n",
        "    \"You are an assistant for question-answering tasks. \"\n",
        "    \"Use the following pieces of retrieved context to answer the question. \"\n",
        "    \"If you don't know the answer, just say that you don't know. \"\n",
        "    \"Use three sentences maximum and keep the answer concise.\\n\"\n",
        "    \"Question: {question} \\n\"\n",
        "    \"Context: {context}\"\n",
        ")\n",
        "\n",
        "\n",
        "def generate_answer(state: ConversationState):\n",
        "    \"\"\"Generate an answer.\"\"\"\n",
        "    question = state[\"question\"]\n",
        "    context = state[\"messages\"][-1].content\n",
        "    prompt = GENERATE_PROMPT.format(question=question, context=context)\n",
        "    print(\"PRMOT:\", prompt)\n",
        "    response = large_llm.invoke([{\"role\": \"user\", \"content\": prompt}])\n",
        "    print()\n",
        "    return {**state, \"messages\":state[\"messages\"] + [response], \"response\": response.content}"
      ]
    },
    {
      "cell_type": "code",
      "execution_count": 5,
      "id": "a1891a6b",
      "metadata": {},
      "outputs": [
        {
          "ename": "ValueError",
          "evalue": "Channel 'messages' already exists with a different type",
          "output_type": "error",
          "traceback": [
            "\u001b[31m---------------------------------------------------------------------------\u001b[39m",
            "\u001b[31mValueError\u001b[39m                                Traceback (most recent call last)",
            "\u001b[36mCell\u001b[39m\u001b[36m \u001b[39m\u001b[32mIn[5]\u001b[39m\u001b[32m, line 9\u001b[39m\n\u001b[32m      6\u001b[39m workflow = StateGraph(ConversationState)\n\u001b[32m      8\u001b[39m workflow.add_node(generate_query_or_respond)\n\u001b[32m----> \u001b[39m\u001b[32m9\u001b[39m \u001b[43mworkflow\u001b[49m\u001b[43m.\u001b[49m\u001b[43madd_node\u001b[49m\u001b[43m(\u001b[49m\u001b[43mrewrite_question\u001b[49m\u001b[43m)\u001b[49m\n\u001b[32m     10\u001b[39m workflow.add_node(\u001b[33m\"\u001b[39m\u001b[33mretrieve\u001b[39m\u001b[33m\"\u001b[39m, ToolNode([doc_retriever_tool]))\n\u001b[32m     11\u001b[39m workflow.add_node(generate_answer)\n",
            "\u001b[36mFile \u001b[39m\u001b[32mc:\\Users\\Deno\\anaconda3\\envs\\pyml_311\\Lib\\site-packages\\langgraph\\graph\\state.py:549\u001b[39m, in \u001b[36mStateGraph.add_node\u001b[39m\u001b[34m(self, node, action, defer, metadata, input_schema, retry_policy, cache_policy, destinations, **kwargs)\u001b[39m\n\u001b[32m    547\u001b[39m input_schema = input_schema \u001b[38;5;129;01mor\u001b[39;00m inferred_input_schema\n\u001b[32m    548\u001b[39m \u001b[38;5;28;01mif\u001b[39;00m input_schema \u001b[38;5;129;01mis\u001b[39;00m \u001b[38;5;129;01mnot\u001b[39;00m \u001b[38;5;28;01mNone\u001b[39;00m:\n\u001b[32m--> \u001b[39m\u001b[32m549\u001b[39m     \u001b[38;5;28;43mself\u001b[39;49m\u001b[43m.\u001b[49m\u001b[43m_add_schema\u001b[49m\u001b[43m(\u001b[49m\u001b[43minput_schema\u001b[49m\u001b[43m)\u001b[49m\n\u001b[32m    551\u001b[39m \u001b[38;5;28;01mreturn\u001b[39;00m \u001b[38;5;28mself\u001b[39m\n",
            "\u001b[36mFile \u001b[39m\u001b[32mc:\\Users\\Deno\\anaconda3\\envs\\pyml_311\\Lib\\site-packages\\langgraph\\graph\\state.py:265\u001b[39m, in \u001b[36mStateGraph._add_schema\u001b[39m\u001b[34m(self, schema, allow_managed)\u001b[39m\n\u001b[32m    263\u001b[39m             \u001b[38;5;28;01mpass\u001b[39;00m\n\u001b[32m    264\u001b[39m         \u001b[38;5;28;01melse\u001b[39;00m:\n\u001b[32m--> \u001b[39m\u001b[32m265\u001b[39m             \u001b[38;5;28;01mraise\u001b[39;00m \u001b[38;5;167;01mValueError\u001b[39;00m(\n\u001b[32m    266\u001b[39m                 \u001b[33mf\u001b[39m\u001b[33m\"\u001b[39m\u001b[33mChannel \u001b[39m\u001b[33m'\u001b[39m\u001b[38;5;132;01m{\u001b[39;00mkey\u001b[38;5;132;01m}\u001b[39;00m\u001b[33m'\u001b[39m\u001b[33m already exists with a different type\u001b[39m\u001b[33m\"\u001b[39m\n\u001b[32m    267\u001b[39m             )\n\u001b[32m    268\u001b[39m \u001b[38;5;28;01melse\u001b[39;00m:\n\u001b[32m    269\u001b[39m     \u001b[38;5;28mself\u001b[39m.channels[key] = channel\n",
            "\u001b[31mValueError\u001b[39m: Channel 'messages' already exists with a different type"
          ]
        }
      ],
      "source": [
        "\n",
        "from langgraph.checkpoint.memory import InMemorySaver\n",
        "from langgraph.graph import StateGraph, START, END\n",
        "from langgraph.prebuilt import ToolNode\n",
        "from langgraph.prebuilt import tools_condition\n",
        "\n",
        "workflow = StateGraph(ConversationState)\n",
        "\n",
        "workflow.add_node(generate_query_or_respond)\n",
        "workflow.add_node(rewrite_question)\n",
        "workflow.add_node(\"retrieve\", ToolNode([doc_retriever_tool]))\n",
        "workflow.add_node(generate_answer)\n",
        "workflow.add_edge(START, \"generate_query_or_respond\")\n",
        "workflow.add_conditional_edges(\n",
        "    \"generate_query_or_respond\",\n",
        "        tools_condition,\n",
        "    {\n",
        "        \"tools\": \"retrieve\",\n",
        "        END: END,\n",
        "    },\n",
        ")\n",
        "\n",
        "workflow.add_edge(\"retrieve\", \"generate_answer\")\n",
        "workflow.add_edge(\"generate_answer\", END)\n",
        "\n",
        "# Compile\n",
        "memory = InMemorySaver()\n",
        "graph = workflow.compile(\n",
        "    checkpointer=memory\n",
        ")"
      ]
    },
    {
      "cell_type": "code",
      "execution_count": null,
      "id": "fbf06fd2",
      "metadata": {},
      "outputs": [
        {
          "data": {
            "image/png": "[encoded data removed]",
            "text/plain": [
              "<IPython.core.display.Image object>"
            ]
          },
          "metadata": {},
          "output_type": "display_data"
        }
      ],
      "source": [
        "from IPython.display import Image, display\n",
        "\n",
        "display(Image(graph.get_graph().draw_mermaid_png()))\n"
      ]
    },
    {
      "cell_type": "code",
      "execution_count": null,
      "id": "bf59249e",
      "metadata": {},
      "outputs": [
        {
          "name": "stdout",
          "output_type": "stream",
          "text": [
            "(AIMessageChunk(content='', additional_kwargs={'function_call': {'name': 'doc_retriever_tool', 'arguments': '{\"query\": \"V\\\\u00f9ng b\\\\u01b0ng 6 x\\\\u00e3\"}'}}, response_metadata={'finish_reason': 'STOP', 'model_name': 'gemini-2.5-flash', 'safety_ratings': []}, id='run--b55645a2-324e-47ac-85dd-aae1fe9c0b0d', tool_calls=[{'name': 'doc_retriever_tool', 'args': {'query': 'Vùng bưng 6 xã'}, 'id': '0b60f78b-c84b-475c-92f7-24da65c7f7de', 'type': 'tool_call'}], usage_metadata={'input_tokens': 72, 'output_tokens': 94, 'total_tokens': 166, 'input_token_details': {'cache_read': 0}, 'output_token_details': {'reasoning': 70}}, tool_call_chunks=[{'name': 'doc_retriever_tool', 'args': '{\"query\": \"V\\\\u00f9ng b\\\\u01b0ng 6 x\\\\u00e3\"}', 'id': '0b60f78b-c84b-475c-92f7-24da65c7f7de', 'index': None, 'type': 'tool_call_chunk'}]), {'thread_id': '12', 'langgraph_step': 6, 'langgraph_node': 'generate_query_or_respond', 'langgraph_triggers': ('branch:to:generate_query_or_respond',), 'langgraph_path': ('__pregel_pull', 'generate_query_or_respond'), 'langgraph_checkpoint_ns': 'generate_query_or_respond:6d69d85e-ba4f-f260-581a-de5f850dce4c', 'checkpoint_ns': 'generate_query_or_respond:6d69d85e-ba4f-f260-581a-de5f850dce4c', 'ls_provider': 'google_genai', 'ls_model_name': 'gemini-2.5-flash', 'ls_model_type': 'chat', 'ls_temperature': 0.7})\n",
            "(ToolMessage(content='111\\n111', name='doc_retriever_tool', id='bb6c6d7e-56fa-4d20-8065-f998ac01a88b', tool_call_id='d3a9e752-bf3c-43a5-bea3-0ff5c5a0bbcc'), {'thread_id': '12', 'langgraph_step': 6, 'langgraph_node': 'generate_query_or_respond', 'langgraph_triggers': ('branch:to:generate_query_or_respond',), 'langgraph_path': ('__pregel_pull', 'generate_query_or_respond'), 'langgraph_checkpoint_ns': 'generate_query_or_respond:6d69d85e-ba4f-f260-581a-de5f850dce4c'})\n",
            "(HumanMessage(content='Vùng bưng 6 xã có j', additional_kwargs={}, response_metadata={}, id='dc3e5d33-ff16-4a12-a560-380f16b9fd94'), {'thread_id': '12', 'langgraph_step': 6, 'langgraph_node': 'generate_query_or_respond', 'langgraph_triggers': ('branch:to:generate_query_or_respond',), 'langgraph_path': ('__pregel_pull', 'generate_query_or_respond'), 'langgraph_checkpoint_ns': 'generate_query_or_respond:6d69d85e-ba4f-f260-581a-de5f850dce4c'})\n",
            "(ToolMessage(content='111\\n111', name='doc_retriever_tool', id='08fc8dd8-09f5-47be-bfab-4d2f60fc0653', tool_call_id='0b60f78b-c84b-475c-92f7-24da65c7f7de'), {'thread_id': '12', 'langgraph_step': 7, 'langgraph_node': 'retrieve', 'langgraph_triggers': ('branch:to:retrieve',), 'langgraph_path': ('__pregel_pull', 'retrieve'), 'langgraph_checkpoint_ns': 'retrieve:faf24ab1-23ff-683b-a07a-4c6716c672f2'})\n",
            "PRMOT: You are an assistant for question-answering tasks. Use the following pieces of retrieved context to answer the question. If you don't know the answer, just say that you don't know. Use three sentences maximum and keep the answer concise.\n",
            "Question: Vùng bưng 6 xã có j \n",
            "Context: 111\n",
            "111\n",
            "(AIMessageChunk(content='Tôi không tìm thấy thông tin về vùng bưng 6 xã trong ngữ cảnh được cung cấp. Ngữ cảnh chỉ chứa các số \"111\". Do đó, tôi không thể trả lời câu hỏi này.', additional_kwargs={}, response_metadata={'finish_reason': 'STOP', 'model_name': 'gemini-2.5-flash', 'safety_ratings': []}, id='run--2fd1bb84-ade6-4f3f-9f34-824b6b4ebca5', usage_metadata={'input_tokens': 76, 'output_tokens': 337, 'total_tokens': 413, 'input_token_details': {'cache_read': 0}, 'output_token_details': {'reasoning': 293}}), {'thread_id': '12', 'langgraph_step': 8, 'langgraph_node': 'generate_answer', 'langgraph_triggers': ('branch:to:generate_answer',), 'langgraph_path': ('__pregel_pull', 'generate_answer'), 'langgraph_checkpoint_ns': 'generate_answer:45442ead-8eb8-6ff8-b4a7-0851a9add94f', 'checkpoint_ns': 'generate_answer:45442ead-8eb8-6ff8-b4a7-0851a9add94f', 'ls_provider': 'google_genai', 'ls_model_name': 'gemini-2.5-flash', 'ls_model_type': 'chat', 'ls_temperature': 0.7})\n",
            "\n"
          ]
        }
      ],
      "source": [
        "config = {\"configurable\": {\"thread_id\": \"12\"}}\n",
        "\n",
        "state = {\"question\":\"Vùng bưng 6 xã có j\"}\n",
        "for chunk in graph.stream(\n",
        "    state,\n",
        "    stream_mode=\"messages\",\n",
        "    config=config\n",
        "):\n",
        "    print(chunk)"
      ]
    },
    {
      "cell_type": "code",
      "execution_count": null,
      "id": "1a714c66",
      "metadata": {},
      "outputs": [
        {
          "name": "stderr",
          "output_type": "stream",
          "text": [
            "d:\\VR_PROJECT\\bandoso-api\\app\\core\\embedding.py:11: LangChainDeprecationWarning: The class `HuggingFaceBgeEmbeddings` was deprecated in LangChain 0.2.2 and will be removed in 1.0. An updated version of the class exists in the :class:`~langchain-huggingface package and should be used instead. To use it run `pip install -U :class:`~langchain-huggingface` and import as `from :class:`~langchain_huggingface import HuggingFaceEmbeddings``.\n",
            "  embeddings = HuggingFaceBgeEmbeddings(\n",
            "C:\\Users\\Deno\\AppData\\Roaming\\Python\\Python311\\site-packages\\tqdm\\auto.py:21: TqdmWarning: IProgress not found. Please update jupyter and ipywidgets. See https://ipywidgets.readthedocs.io/en/stable/user_install.html\n",
            "  from .autonotebook import tqdm as notebook_tqdm\n"
          ]
        },
        {
          "name": "stdout",
          "output_type": "stream",
          "text": [
            "Model loaded on: cpu\n"
          ]
        }
      ],
      "source": [
        "from app.core.query_cache import *\n"
      ]
    },
    {
      "cell_type": "code",
      "execution_count": null,
      "id": "04dcafd5",
      "metadata": {},
      "outputs": [],
      "source": [
        "add_to_cache(\"Đụ con đỉ mẹ chị\", \"Tin tức sáng nay đề cập về việc giá vàng tăng nhanh\")"
      ]
    },
    {
      "cell_type": "code",
      "execution_count": null,
      "id": "905a3754",
      "metadata": {},
      "outputs": [
        {
          "name": "stdout",
          "output_type": "stream",
          "text": [
            "[(Document(metadata={'answer': 'Tin tức sáng nay đề cập về việc giá vàng tăng nhanh', '_id': '79969627-9c81-476e-a969-433932240616', '_collection_name': 'cache'}, page_content='Đụ con đỉ mẹ chị'), 0.88246888)]\n"
          ]
        },
        {
          "data": {
            "text/plain": [
              "'Đụ con đỉ mẹ chị'"
            ]
          },
          "execution_count": 5,
          "metadata": {},
          "output_type": "execute_result"
        }
      ],
      "source": [
        "find_in_cache(\"Đụ con đỉ mẹ chị\")"
      ]
    },
    {
      "cell_type": "code",
      "execution_count": null,
      "id": "e31d4b8a",
      "metadata": {},
      "outputs": [],
      "source": []
    }
  ],
  "metadata": {
    "kernelspec": {
      "display_name": "pyml_311",
      "language": "python",
      "name": "python3"
    },
    "language_info": {
      "codemirror_mode": {
        "name": "ipython",
        "version": 3
      },
      "file_extension": ".py",
      "mimetype": "text/x-python",
      "name": "python",
      "nbconvert_exporter": "python",
      "pygments_lexer": "ipython3",
      "version": "3.11.13"
    }
  },
  "nbformat": 4,
  "nbformat_minor": 5
}
